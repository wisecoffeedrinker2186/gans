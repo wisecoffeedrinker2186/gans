{
  "nbformat": 4,
  "nbformat_minor": 0,
  "metadata": {
    "colab": {
      "provenance": [],
      "gpuType": "T4"
    },
    "kernelspec": {
      "name": "python3",
      "display_name": "Python 3"
    },
    "language_info": {
      "name": "python"
    },
    "accelerator": "GPU"
  },
  "cells": [
    {
      "cell_type": "code",
      "source": [
        "import tensorflow as tf\n",
        "import numpy as np\n",
        "import matplotlib.pyplot as plt\n",
        "from tensorflow.keras.models import Model\n",
        "from tensorflow.keras.layers import Layer\n",
        "from tensorflow.keras.layers import (Reshape, Conv2DTranspose, Add, Conv2D, MaxPool2D, Dense,\n",
        "                                     Flatten, InputLayer, BatchNormalization, Input, )\n",
        "from tensorflow.keras.optimizers import Adam"
      ],
      "metadata": {
        "id": "Dn3qwYYMIeph"
      },
      "execution_count": null,
      "outputs": []
    },
    {
      "cell_type": "markdown",
      "source": [
        "### Data Preparation"
      ],
      "metadata": {
        "id": "DTQTr6vvLjt1"
      }
    },
    {
      "cell_type": "code",
      "source": [
        "(x_train, _), (x_test, _) = tf.keras.datasets.mnist.load_data()\n",
        "mnist_digits = np.concatenate([x_train, x_test], axis=0)\n",
        "mnist_digits = np.expand_dims(mnist_digits, -1).astype(\"float32\") / 255"
      ],
      "metadata": {
        "colab": {
          "base_uri": "https://localhost:8080/"
        },
        "id": "LyU3L99eLeJE",
        "outputId": "f3e97a2f-b39f-4657-c700-30a412198013"
      },
      "execution_count": null,
      "outputs": [
        {
          "output_type": "stream",
          "name": "stdout",
          "text": [
            "Downloading data from https://storage.googleapis.com/tensorflow/tf-keras-datasets/mnist.npz\n",
            "11490434/11490434 [==============================] - 0s 0us/step\n"
          ]
        }
      ]
    },
    {
      "cell_type": "code",
      "source": [
        "dataset = tf.data.Dataset.from_tensor_slices(mnist_digits)"
      ],
      "metadata": {
        "id": "2eFWtY9zLeGr"
      },
      "execution_count": null,
      "outputs": []
    },
    {
      "cell_type": "code",
      "source": [
        "BATCH_SIZE = 128\n",
        "LATENT_DIM = 2"
      ],
      "metadata": {
        "id": "6Ujbb9iSLeEL"
      },
      "execution_count": null,
      "outputs": []
    },
    {
      "cell_type": "code",
      "source": [
        "train_dataset = (\n",
        "    dataset\n",
        "    .shuffle(buffer_size = 1024, reshuffle_each_iteration = True)\n",
        "    .batch(BATCH_SIZE)\n",
        "    .prefetch(tf.data.AUTOTUNE)\n",
        ")"
      ],
      "metadata": {
        "id": "vs26IcZwLeBb"
      },
      "execution_count": null,
      "outputs": []
    },
    {
      "cell_type": "code",
      "source": [
        "train_dataset"
      ],
      "metadata": {
        "colab": {
          "base_uri": "https://localhost:8080/"
        },
        "id": "mPPjiGXlLd-s",
        "outputId": "8fe5c76c-880d-4348-a8c0-41e50a528027"
      },
      "execution_count": null,
      "outputs": [
        {
          "output_type": "execute_result",
          "data": {
            "text/plain": [
              "<_PrefetchDataset element_spec=TensorSpec(shape=(None, 28, 28, 1), dtype=tf.float32, name=None)>"
            ]
          },
          "metadata": {},
          "execution_count": 6
        }
      ]
    },
    {
      "cell_type": "markdown",
      "source": [
        "### Sampling\n"
      ],
      "metadata": {
        "id": "YETvmC9wMAms"
      }
    },
    {
      "cell_type": "code",
      "source": [
        "class Sampling(Layer):\n",
        "  def call(self, inputs):\n",
        "    mean, log_var = inputs\n",
        "    return mean + tf.math.exp(0.5*log_var)*tf.random.normal(shape = (tf.shape(mean)[0], tf.shape(mean)[1]))"
      ],
      "metadata": {
        "id": "iD7L4PcwLd5D"
      },
      "execution_count": null,
      "outputs": []
    },
    {
      "cell_type": "markdown",
      "source": [
        "### Encoder Model"
      ],
      "metadata": {
        "id": "KPAQV33fOkY7"
      }
    },
    {
      "cell_type": "code",
      "source": [
        "encoder_inputs = Input(shape=(28,28,1))\n",
        "\n",
        "x = Conv2D(32, 3, activation='relu', strides=2, padding='same')(encoder_inputs)\n",
        "x = Conv2D(64, 3, activation='relu', strides=2, padding='same')(x)\n",
        "\n",
        "x = Flatten()(x)\n",
        "x = Dense(16, activation='relu')(x)\n",
        "\n",
        "mean = Dense(LATENT_DIM,)(x)\n",
        "log_var = Dense(LATENT_DIM,)(x)\n",
        "\n",
        "z = Sampling()([mean,log_var])\n",
        "\n",
        "encoder_model = Model(encoder_inputs,[z,mean,log_var], name='encoder')\n",
        "encoder_model.summary()"
      ],
      "metadata": {
        "colab": {
          "base_uri": "https://localhost:8080/"
        },
        "id": "jfGrDGB_OkA8",
        "outputId": "e98ddd95-c77a-4f24-ee16-6869a0fb5237"
      },
      "execution_count": null,
      "outputs": [
        {
          "output_type": "stream",
          "name": "stdout",
          "text": [
            "Model: \"encoder\"\n",
            "__________________________________________________________________________________________________\n",
            " Layer (type)                Output Shape                 Param #   Connected to                  \n",
            "==================================================================================================\n",
            " input_1 (InputLayer)        [(None, 28, 28, 1)]          0         []                            \n",
            "                                                                                                  \n",
            " conv2d (Conv2D)             (None, 14, 14, 32)           320       ['input_1[0][0]']             \n",
            "                                                                                                  \n",
            " conv2d_1 (Conv2D)           (None, 7, 7, 64)             18496     ['conv2d[0][0]']              \n",
            "                                                                                                  \n",
            " flatten (Flatten)           (None, 3136)                 0         ['conv2d_1[0][0]']            \n",
            "                                                                                                  \n",
            " dense (Dense)               (None, 16)                   50192     ['flatten[0][0]']             \n",
            "                                                                                                  \n",
            " dense_1 (Dense)             (None, 2)                    34        ['dense[0][0]']               \n",
            "                                                                                                  \n",
            " dense_2 (Dense)             (None, 2)                    34        ['dense[0][0]']               \n",
            "                                                                                                  \n",
            " sampling (Sampling)         (None, 2)                    0         ['dense_1[0][0]',             \n",
            "                                                                     'dense_2[0][0]']             \n",
            "                                                                                                  \n",
            "==================================================================================================\n",
            "Total params: 69076 (269.83 KB)\n",
            "Trainable params: 69076 (269.83 KB)\n",
            "Non-trainable params: 0 (0.00 Byte)\n",
            "__________________________________________________________________________________________________\n"
          ]
        }
      ]
    },
    {
      "cell_type": "markdown",
      "source": [
        "### Decoder Model"
      ],
      "metadata": {
        "id": "EcJJaGwlOoOb"
      }
    },
    {
      "cell_type": "code",
      "source": [
        "latent_inputs = Input(shape=(LATENT_DIM,))\n",
        "\n",
        "\n",
        "x = Dense(7*7*64, activation='relu')(latent_inputs)\n",
        "x = Reshape((7,7,64))(x)\n",
        "\n",
        "x = Conv2DTranspose(64, 3, activation='relu', strides=2, padding='same')(x)\n",
        "x = Conv2DTranspose(32, 3, activation='relu', strides=2, padding='same')(x)\n",
        "\n",
        "decoder_output = Conv2DTranspose(1, 3, activation='sigmoid', padding='same')(x)\n",
        "decoder_model = Model(latent_inputs,decoder_output,name='decoder')\n",
        "decoder_model.summary()"
      ],
      "metadata": {
        "colab": {
          "base_uri": "https://localhost:8080/"
        },
        "id": "8QtRQ0ztWGE-",
        "outputId": "44bcc38c-60cc-4568-c1ae-4cb11645e3a5"
      },
      "execution_count": null,
      "outputs": [
        {
          "output_type": "stream",
          "name": "stdout",
          "text": [
            "Model: \"decoder\"\n",
            "_________________________________________________________________\n",
            " Layer (type)                Output Shape              Param #   \n",
            "=================================================================\n",
            " input_2 (InputLayer)        [(None, 2)]               0         \n",
            "                                                                 \n",
            " dense_3 (Dense)             (None, 3136)              9408      \n",
            "                                                                 \n",
            " reshape (Reshape)           (None, 7, 7, 64)          0         \n",
            "                                                                 \n",
            " conv2d_transpose (Conv2DTr  (None, 14, 14, 64)        36928     \n",
            " anspose)                                                        \n",
            "                                                                 \n",
            " conv2d_transpose_1 (Conv2D  (None, 28, 28, 32)        18464     \n",
            " Transpose)                                                      \n",
            "                                                                 \n",
            " conv2d_transpose_2 (Conv2D  (None, 28, 28, 1)         289       \n",
            " Transpose)                                                      \n",
            "                                                                 \n",
            "=================================================================\n",
            "Total params: 65089 (254.25 KB)\n",
            "Trainable params: 65089 (254.25 KB)\n",
            "Non-trainable params: 0 (0.00 Byte)\n",
            "_________________________________________________________________\n"
          ]
        }
      ]
    },
    {
      "cell_type": "markdown",
      "source": [
        "## Variational Autoencoder Architecture"
      ],
      "metadata": {
        "id": "huSZvkh1WIHW"
      }
    },
    {
      "cell_type": "code",
      "source": [
        "vae_input = Input(shape=(28,28,1), name=\"vae_input\")\n",
        "z,_,_ = encoder_model(vae_input)\n",
        "output = decoder_model(z)\n",
        "vae = Model(vae_input, output, name=\"vae\")\n",
        "vae.summary()"
      ],
      "metadata": {
        "colab": {
          "base_uri": "https://localhost:8080/"
        },
        "id": "YghUCvskWNG0",
        "outputId": "a297c9e8-8c13-4e5d-da01-25c289cf550c"
      },
      "execution_count": null,
      "outputs": [
        {
          "output_type": "stream",
          "name": "stdout",
          "text": [
            "Model: \"vae\"\n",
            "_________________________________________________________________\n",
            " Layer (type)                Output Shape              Param #   \n",
            "=================================================================\n",
            " vae_input (InputLayer)      [(None, 28, 28, 1)]       0         \n",
            "                                                                 \n",
            " encoder (Functional)        [(None, 2),               69076     \n",
            "                              (None, 2),                         \n",
            "                              (None, 2)]                         \n",
            "                                                                 \n",
            " decoder (Functional)        (None, 28, 28, 1)         65089     \n",
            "                                                                 \n",
            "=================================================================\n",
            "Total params: 134165 (524.08 KB)\n",
            "Trainable params: 134165 (524.08 KB)\n",
            "Non-trainable params: 0 (0.00 Byte)\n",
            "_________________________________________________________________\n"
          ]
        }
      ]
    },
    {
      "cell_type": "code",
      "source": [
        "from keras.utils import plot_model\n",
        "plot_model(vae, show_shapes=True)"
      ],
      "metadata": {
        "colab": {
          "base_uri": "https://localhost:8080/",
          "height": 312
        },
        "id": "u1nE3EHZWRL8",
        "outputId": "1589ee72-9928-4ea8-d42d-6d0bafa1f926"
      },
      "execution_count": null,
      "outputs": [
        {
          "output_type": "execute_result",
          "data": {
            "image/png": "[encoded data removed]",
            "text/plain": [
              "<IPython.core.display.Image object>"
            ]
          },
          "metadata": {},
          "execution_count": 11
        }
      ]
    },
    {
      "cell_type": "code",
      "source": [
        "for i in range(3):\n",
        "  print(vae.layers[i])"
      ],
      "metadata": {
        "colab": {
          "base_uri": "https://localhost:8080/"
        },
        "id": "XnK3SC5VWOhT",
        "outputId": "591ea3b0-2b03-4c9a-a768-3028be01c07f"
      },
      "execution_count": null,
      "outputs": [
        {
          "output_type": "stream",
          "name": "stdout",
          "text": [
            "<keras.src.engine.input_layer.InputLayer object at 0x7d3d123034f0>\n",
            "<keras.src.engine.functional.Functional object at 0x7d3d0d18b400>\n",
            "<keras.src.engine.functional.Functional object at 0x7d3d0d18a440>\n"
          ]
        }
      ]
    },
    {
      "cell_type": "code",
      "source": [
        "## Model training and evaluation\n",
        "OPTIMIZER = Adam(learning_rate = 1e-3)\n",
        "EPOCHS = 20"
      ],
      "metadata": {
        "id": "bRj8gkjwWc8i"
      },
      "execution_count": null,
      "outputs": []
    },
    {
      "cell_type": "code",
      "source": [
        "def custom_loss(y_true,y_pred,mean,log_var):\n",
        "  '''Function to minimize the difference between the encoder and decoder distributions i.e\n",
        "  g(z/x) and p(z/x)\n",
        "  '''\n",
        "  loss_rec = tf.reduce_mean(tf.reduce_sum(tf.keras.losses.binary_crossentropy(y_true,y_pred), axis = (1,2)))\n",
        "  loss_reg = -0.5 * (1 + log_var - tf.square(mean) - tf.exp(log_var))\n",
        "  return loss_rec+tf.reduce_mean(tf.reduce_sum(loss_reg, axis=1))"
      ],
      "metadata": {
        "id": "CfuTEM6cWgzj"
      },
      "execution_count": null,
      "outputs": []
    },
    {
      "cell_type": "code",
      "source": [
        "@tf.function\n",
        "def training_block(x_batch):\n",
        "  with tf.GradientTape() as recorder:\n",
        "    z,mean,log_var = encoder_model(x_batch)\n",
        "    y_pred = decoder_model(z)\n",
        "    y_true = x_batch\n",
        "    loss = custom_loss(y_true,y_pred, mean, log_var)\n",
        "\n",
        "  partial_derivatives = recorder.gradient(loss,vae.trainable_weights)\n",
        "  OPTIMIZER.apply_gradients(zip(partial_derivatives, vae.trainable_weights))\n",
        "  return loss"
      ],
      "metadata": {
        "id": "LwaCbn37W52t"
      },
      "execution_count": null,
      "outputs": []
    },
    {
      "cell_type": "code",
      "source": [
        "def neuralearn(epochs):\n",
        "  for epoch in range(1,epochs+1):\n",
        "    print('Training starts for epoch number {}'.format(epoch))\n",
        "\n",
        "    for step, x_batch in enumerate(train_dataset):\n",
        "      loss = training_block(x_batch)\n",
        "    print('Training Loss is: ', loss)\n",
        "  print('Training Complete!!!')"
      ],
      "metadata": {
        "id": "Vf1nYY5cW_SU"
      },
      "execution_count": null,
      "outputs": []
    },
    {
      "cell_type": "code",
      "source": [
        "neuralearn(EPOCHS)"
      ],
      "metadata": {
        "colab": {
          "base_uri": "https://localhost:8080/"
        },
        "id": "o1tzQkWgXBD0",
        "outputId": "54331cde-f977-4a4d-91e5-b672afa38459"
      },
      "execution_count": null,
      "outputs": [
        {
          "output_type": "stream",
          "name": "stdout",
          "text": [
            "Training starts for epoch number 1\n",
            "Training Loss is:  tf.Tensor(195.18202, shape=(), dtype=float32)\n",
            "Training starts for epoch number 2\n",
            "Training Loss is:  tf.Tensor(183.98187, shape=(), dtype=float32)\n",
            "Training starts for epoch number 3\n",
            "Training Loss is:  tf.Tensor(165.22026, shape=(), dtype=float32)\n",
            "Training starts for epoch number 4\n",
            "Training Loss is:  tf.Tensor(159.0302, shape=(), dtype=float32)\n",
            "Training starts for epoch number 5\n",
            "Training Loss is:  tf.Tensor(154.21204, shape=(), dtype=float32)\n",
            "Training starts for epoch number 6\n",
            "Training Loss is:  tf.Tensor(157.67361, shape=(), dtype=float32)\n",
            "Training starts for epoch number 7\n",
            "Training Loss is:  tf.Tensor(158.78299, shape=(), dtype=float32)\n",
            "Training starts for epoch number 8\n",
            "Training Loss is:  tf.Tensor(152.96791, shape=(), dtype=float32)\n",
            "Training starts for epoch number 9\n",
            "Training Loss is:  tf.Tensor(152.76501, shape=(), dtype=float32)\n",
            "Training starts for epoch number 10\n",
            "Training Loss is:  tf.Tensor(151.70164, shape=(), dtype=float32)\n",
            "Training starts for epoch number 11\n",
            "Training Loss is:  tf.Tensor(160.28285, shape=(), dtype=float32)\n",
            "Training starts for epoch number 12\n",
            "Training Loss is:  tf.Tensor(153.4415, shape=(), dtype=float32)\n",
            "Training starts for epoch number 13\n",
            "Training Loss is:  tf.Tensor(152.00804, shape=(), dtype=float32)\n",
            "Training starts for epoch number 14\n",
            "Training Loss is:  tf.Tensor(152.87099, shape=(), dtype=float32)\n",
            "Training starts for epoch number 15\n",
            "Training Loss is:  tf.Tensor(147.56471, shape=(), dtype=float32)\n",
            "Training starts for epoch number 16\n",
            "Training Loss is:  tf.Tensor(151.5658, shape=(), dtype=float32)\n",
            "Training starts for epoch number 17\n",
            "Training Loss is:  tf.Tensor(145.53659, shape=(), dtype=float32)\n",
            "Training starts for epoch number 18\n",
            "Training Loss is:  tf.Tensor(150.81233, shape=(), dtype=float32)\n",
            "Training starts for epoch number 19\n",
            "Training Loss is:  tf.Tensor(152.74834, shape=(), dtype=float32)\n",
            "Training starts for epoch number 20\n",
            "Training Loss is:  tf.Tensor(148.08286, shape=(), dtype=float32)\n",
            "Training Complete!!!\n"
          ]
        }
      ]
    },
    {
      "cell_type": "markdown",
      "source": [
        "### Testing"
      ],
      "metadata": {
        "id": "D_QR0189XSh2"
      }
    },
    {
      "cell_type": "code",
      "source": [
        "test_dataset = (\n",
        "    dataset\n",
        "    .shuffle(buffer_size = 1024, reshuffle_each_iteration = True)\n",
        "    .batch(BATCH_SIZE)\n",
        "    .prefetch(tf.data.AUTOTUNE)\n",
        ")"
      ],
      "metadata": {
        "id": "yXPUuDmZYV4c"
      },
      "execution_count": null,
      "outputs": []
    },
    {
      "cell_type": "code",
      "source": [
        "test_dataset"
      ],
      "metadata": {
        "colab": {
          "base_uri": "https://localhost:8080/"
        },
        "id": "R-cZtuKbZBgd",
        "outputId": "bb8ee8d8-7b70-4a4e-8aab-3a41f6d1c5cb"
      },
      "execution_count": null,
      "outputs": [
        {
          "output_type": "execute_result",
          "data": {
            "text/plain": [
              "<_PrefetchDataset element_spec=TensorSpec(shape=(None, 28, 28, 1), dtype=tf.float32, name=None)>"
            ]
          },
          "metadata": {},
          "execution_count": 30
        }
      ]
    },
    {
      "cell_type": "code",
      "source": [
        "pred_images = vae.predict(test_dataset)"
      ],
      "metadata": {
        "colab": {
          "base_uri": "https://localhost:8080/"
        },
        "id": "np8BSfAIZfDB",
        "outputId": "4cc3a22d-0f0a-4a17-aca6-c9b16911928d"
      },
      "execution_count": null,
      "outputs": [
        {
          "output_type": "stream",
          "name": "stdout",
          "text": [
            "547/547 [==============================] - 2s 3ms/step\n"
          ]
        }
      ]
    },
    {
      "cell_type": "code",
      "source": [
        "plt.imshow(pred_images[0], cmap=\"gray\")"
      ],
      "metadata": {
        "colab": {
          "base_uri": "https://localhost:8080/",
          "height": 447
        },
        "id": "XGyNrjf_ZghD",
        "outputId": "9451ba40-bcbe-4193-8d9a-b02da228363f"
      },
      "execution_count": null,
      "outputs": [
        {
          "output_type": "execute_result",
          "data": {
            "text/plain": [
              "<matplotlib.image.AxesImage at 0x7d3c682c5b40>"
            ]
          },
          "metadata": {},
          "execution_count": 33
        },
        {
          "output_type": "display_data",
          "data": {
            "text/plain": [
              "<Figure size 640x480 with 1 Axes>"
            ],
            "image/png": "[encoded data removed]"
          },
          "metadata": {}
        }
      ]
    }
  ]
}